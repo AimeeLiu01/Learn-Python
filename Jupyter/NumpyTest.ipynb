{
 "cells": [
  {
   "cell_type": "code",
   "execution_count": 2,
   "metadata": {},
   "outputs": [
    {
     "name": "stdout",
     "output_type": "stream",
     "text": [
      "[[-0.22756175  0.17232018 -1.9794246 ]\n",
      " [ 0.87822328  0.50534213  0.75368641]]\n"
     ]
    }
   ],
   "source": [
    "from numpy.random import randn #导入numpy.random.randn\n",
    "import numpy as np # 导入numpy\n",
    "data = randn(2,3) # 随机生成2*3的数组\n",
    "print(data)"
   ]
  },
  {
   "cell_type": "code",
   "execution_count": 3,
   "metadata": {},
   "outputs": [
    {
     "name": "stdout",
     "output_type": "stream",
     "text": [
      "[[ -2.27561746   1.72320184 -19.79424602]\n",
      " [  8.78223279   5.05342134   7.53686411]]\n"
     ]
    }
   ],
   "source": [
    "print(data*10)"
   ]
  },
  {
   "cell_type": "code",
   "execution_count": 4,
   "metadata": {},
   "outputs": [
    {
     "name": "stdout",
     "output_type": "stream",
     "text": [
      "[[-0.45512349  0.34464037 -3.9588492 ]\n",
      " [ 1.75644656  1.01068427  1.50737282]]\n",
      "(2, 3)\n",
      "float64\n"
     ]
    }
   ],
   "source": [
    "print(data+data)\n",
    "print(data.shape)\n",
    "print(data.dtype)"
   ]
  },
  {
   "cell_type": "code",
   "execution_count": 5,
   "metadata": {
    "scrolled": true
   },
   "outputs": [
    {
     "name": "stdout",
     "output_type": "stream",
     "text": [
      "[[1 2 3]\n",
      " [4 5 6]]\n",
      "[[0. 0.]\n",
      " [0. 0.]]\n"
     ]
    }
   ],
   "source": [
    "# 创建多维数组 最简单的方法是使用array函数 它接受一切序列型的对象\n",
    "data2 = [[1,2,3],[4,5,6]]\n",
    "arr2 = np.array(data2) # 得到一个二维数组\n",
    "print(arr2)\n",
    "a = np.zeros((2,2))\n",
    "print(a)\n"
   ]
  },
  {
   "cell_type": "code",
   "execution_count": 6,
   "metadata": {},
   "outputs": [
    {
     "name": "stdout",
     "output_type": "stream",
     "text": [
      "[[0. 0.]\n",
      " [0. 0.]]\n",
      "[[1. 1. 1.]\n",
      " [1. 1. 1.]]\n",
      "[[[-2.00000000e+000  2.00389835e+000]\n",
      "  [ 2.96439388e-323  0.00000000e+000]\n",
      "  [ 0.00000000e+000  0.00000000e+000]]\n",
      "\n",
      " [[ 0.00000000e+000  0.00000000e+000]\n",
      "  [ 0.00000000e+000  0.00000000e+000]\n",
      "  [ 0.00000000e+000  8.34402697e-309]]]\n"
     ]
    }
   ],
   "source": [
    "b = np.zeros((2,2)) #创建指定形状的全0数组\n",
    "print(b)\n",
    "c = np.ones((2,3)) #创建指定形状的全1数组\n",
    "print(c)\n",
    "d = np.empty((2,3,2)) #创建指定形状的随机数组\n",
    "print(d)\n"
   ]
  },
  {
   "cell_type": "code",
   "execution_count": 7,
   "metadata": {},
   "outputs": [
    {
     "name": "stdout",
     "output_type": "stream",
     "text": [
      "[0 1 2 3 4]\n"
     ]
    }
   ],
   "source": [
    "e = np.arange(5) # arange是Python内置函数range的数组版\n",
    "print(e)"
   ]
  },
  {
   "cell_type": "code",
   "execution_count": 8,
   "metadata": {},
   "outputs": [
    {
     "name": "stdout",
     "output_type": "stream",
     "text": [
      "[1. 2. 3.]\n"
     ]
    }
   ],
   "source": [
    "# 多维数组的dtype\n",
    "typearr = np.array([1,2,3], dtype=np.float64)\n",
    "print(typearr)"
   ]
  },
  {
   "cell_type": "code",
   "execution_count": 9,
   "metadata": {},
   "outputs": [
    {
     "name": "stdout",
     "output_type": "stream",
     "text": [
      "[1 2 3]\n"
     ]
    }
   ],
   "source": [
    "typearr2 = typearr.astype(np.int64)\n",
    "print(typearr2)"
   ]
  },
  {
   "cell_type": "code",
   "execution_count": 10,
   "metadata": {},
   "outputs": [
    {
     "name": "stdout",
     "output_type": "stream",
     "text": [
      "[[-1.00158314  0.17092243  0.00517985]\n",
      " [ 0.79269954  1.14046019 -1.67139684]]\n",
      "[[-10.01583145   1.70922434   0.05179852]\n",
      " [  7.92699543  11.40460187 -16.71396841]]\n",
      "[[-2.00316629  0.34184487  0.0103597 ]\n",
      " [ 1.58539909  2.28092037 -3.34279368]]\n"
     ]
    }
   ],
   "source": [
    "# 数组很重要 因为它使我们不用编写循环即可对数据执行批量运算\n",
    "data = randn(2,3) # 随机生成2*3的数组\n",
    "print(data)\n",
    "print(data*10)\n",
    "print(data + data)"
   ]
  },
  {
   "cell_type": "code",
   "execution_count": 14,
   "metadata": {},
   "outputs": [
    {
     "name": "stdout",
     "output_type": "stream",
     "text": [
      "[5 6 7]\n"
     ]
    }
   ],
   "source": [
    "arr = np.array([0,1,2,3,4,5,6,7,8,9])\n",
    "print(arr[5:8])\n"
   ]
  },
  {
   "cell_type": "code",
   "execution_count": 15,
   "metadata": {},
   "outputs": [
    {
     "name": "stdout",
     "output_type": "stream",
     "text": [
      "[ 0  1  2  3  4 12 12 12  8  9]\n"
     ]
    }
   ],
   "source": [
    "arr[5:8] = 12\n",
    "print(arr)"
   ]
  },
  {
   "cell_type": "code",
   "execution_count": 16,
   "metadata": {},
   "outputs": [
    {
     "name": "stdout",
     "output_type": "stream",
     "text": [
      "[12 12 12]\n"
     ]
    }
   ],
   "source": [
    "arr_slice = arr[5:8]\n",
    "print(arr_slice)"
   ]
  },
  {
   "cell_type": "code",
   "execution_count": 17,
   "metadata": {},
   "outputs": [
    {
     "name": "stdout",
     "output_type": "stream",
     "text": [
      "[  0   1   2   3   4 100 100 100   8   9]\n"
     ]
    }
   ],
   "source": [
    "arr_slice[:] = 100\n",
    "print(arr)\n"
   ]
  },
  {
   "cell_type": "code",
   "execution_count": 18,
   "metadata": {},
   "outputs": [
    {
     "name": "stdout",
     "output_type": "stream",
     "text": [
      "[100 100 100]\n",
      "[  0   1   2   3   4 100 100 100   8   9]\n"
     ]
    }
   ],
   "source": [
    "arr_copy = arr[5:8]\n",
    "print(arr_copy)\n",
    "arr_copy = arr[5:8].copy()\n",
    "arr_copy[:] = 0\n",
    "print(arr)"
   ]
  },
  {
   "cell_type": "code",
   "execution_count": 19,
   "metadata": {},
   "outputs": [
    {
     "name": "stdout",
     "output_type": "stream",
     "text": [
      "[7 8 9]\n",
      "[[1 2 3]]\n"
     ]
    }
   ],
   "source": [
    "# Numpy数组和Python列表最重要的一点在于，数组切片是原始数组的试图，\n",
    "# 数据不会被复制，在试图的基础上进行的任何修改都会直接反映到源数组上。\n",
    "arr2d = np.array([[1,2,3],[4,5,6],[7,8,9]])\n",
    "print(arr2d[2])\n",
    "print(arr2d[0:1][0:1])\n"
   ]
  },
  {
   "cell_type": "code",
   "execution_count": 20,
   "metadata": {},
   "outputs": [
    {
     "name": "stdout",
     "output_type": "stream",
     "text": [
      "[[1 2 3]]\n"
     ]
    }
   ],
   "source": [
    "print(arr2d[0:1])"
   ]
  },
  {
   "cell_type": "code",
   "execution_count": 21,
   "metadata": {},
   "outputs": [
    {
     "name": "stdout",
     "output_type": "stream",
     "text": [
      "1\n"
     ]
    }
   ],
   "source": [
    "# 多维数组可以用[][]的方式或者[,]方式索引，但不能用(,)方式索引\n",
    "print(arr2d[0,0])"
   ]
  },
  {
   "cell_type": "code",
   "execution_count": 22,
   "metadata": {},
   "outputs": [
    {
     "name": "stdout",
     "output_type": "stream",
     "text": [
      "['Bob' 'Joe' 'Will' 'Bob' 'Will' 'Joe' 'Joe']\n"
     ]
    }
   ],
   "source": [
    "# 布尔型索引\n",
    "names = np.array(['Bob','Joe','Will','Bob','Will','Joe','Joe'])\n",
    "print(names)"
   ]
  },
  {
   "cell_type": "code",
   "execution_count": 23,
   "metadata": {},
   "outputs": [
    {
     "name": "stdout",
     "output_type": "stream",
     "text": [
      "[[ 0.27846996  0.46315577  0.06565614 -0.12558744]\n",
      " [-0.95646438  0.5185384  -0.40036805 -0.3461322 ]\n",
      " [ 0.59765413 -0.05855634  0.33043843  0.55108733]\n",
      " [-2.25696431  1.77714533 -1.02662503  1.71479533]\n",
      " [-0.14303621 -0.27038266  0.3842841  -1.47045123]\n",
      " [-0.15849181 -0.7564386   0.75888712  0.95072526]\n",
      " [ 0.66763971 -2.09297349 -0.37140192 -1.71455978]]\n"
     ]
    }
   ],
   "source": [
    "data = randn(7,4)\n",
    "print(data)"
   ]
  },
  {
   "cell_type": "code",
   "execution_count": 24,
   "metadata": {},
   "outputs": [
    {
     "data": {
      "text/plain": [
       "array([ True, False, False,  True, False, False, False])"
      ]
     },
     "execution_count": 24,
     "metadata": {},
     "output_type": "execute_result"
    }
   ],
   "source": [
    "names == 'Bob'"
   ]
  },
  {
   "cell_type": "code",
   "execution_count": 25,
   "metadata": {},
   "outputs": [
    {
     "data": {
      "text/plain": [
       "array([[ 0.27846996,  0.46315577,  0.06565614, -0.12558744],\n",
       "       [-2.25696431,  1.77714533, -1.02662503,  1.71479533]])"
      ]
     },
     "execution_count": 25,
     "metadata": {},
     "output_type": "execute_result"
    }
   ],
   "source": [
    "data[names == 'Bob']"
   ]
  },
  {
   "cell_type": "code",
   "execution_count": 42,
   "metadata": {},
   "outputs": [
    {
     "name": "stdout",
     "output_type": "stream",
     "text": [
      "[[0.27846996 0.46315577 0.06565614 0.        ]\n",
      " [0.         0.5185384  0.         0.        ]\n",
      " [0.59765413 0.         0.33043843 0.55108733]\n",
      " [0.         1.77714533 0.         1.71479533]\n",
      " [0.         0.         0.3842841  0.        ]\n",
      " [0.         0.         0.75888712 0.95072526]\n",
      " [0.66763971 0.         0.         0.        ]]\n"
     ]
    }
   ],
   "source": [
    "data[data<0] = 0\n",
    "print(data)"
   ]
  },
  {
   "cell_type": "code",
   "execution_count": 36,
   "metadata": {},
   "outputs": [
    {
     "name": "stdout",
     "output_type": "stream",
     "text": [
      "[[-0.32398779  0.336456   -1.55965147 -0.82240335]\n",
      " [-2.87940885 -2.6031584   0.79509981  2.07667413]\n",
      " [-1.79486008  0.58973396  0.20727667  0.20697509]\n",
      " [ 1.6140764  -0.10737957 -0.5449914   0.83140089]\n",
      " [-0.42993874  1.539873    1.92774623 -1.84909004]]\n"
     ]
    }
   ],
   "source": [
    "#数学统计方法 可以通过数组上的一组数学函数对整个数组或某个轴向的数据进行统计计算\n",
    "arr = np.random.randn(5,4) # 正态分布的数据\n",
    "print(arr)"
   ]
  },
  {
   "cell_type": "code",
   "execution_count": 27,
   "metadata": {},
   "outputs": [
    {
     "name": "stdout",
     "output_type": "stream",
     "text": [
      "[[ 0  1  2  3  4]\n",
      " [ 5  6  7  8  9]\n",
      " [10 11 12 13 14]]\n"
     ]
    }
   ],
   "source": [
    "# 数组转置和轴对称\n",
    "arr = np.arange(15).reshape(3, 5)\n",
    "print(arr)"
   ]
  },
  {
   "cell_type": "code",
   "execution_count": 28,
   "metadata": {},
   "outputs": [
    {
     "name": "stdout",
     "output_type": "stream",
     "text": [
      "[[ 0  5 10]\n",
      " [ 1  6 11]\n",
      " [ 2  7 12]\n",
      " [ 3  8 13]\n",
      " [ 4  9 14]]\n"
     ]
    }
   ],
   "source": [
    "print(arr.T)"
   ]
  },
  {
   "cell_type": "code",
   "execution_count": 29,
   "metadata": {},
   "outputs": [
    {
     "name": "stdout",
     "output_type": "stream",
     "text": [
      "[[[ 0  1  2  3]\n",
      "  [ 4  5  6  7]]\n",
      "\n",
      " [[ 8  9 10 11]\n",
      "  [12 13 14 15]]]\n"
     ]
    }
   ],
   "source": [
    "# 对于高维数组，transpose需要得到一个由轴编号组成的元组才能对这些轴进行转置\n",
    "arr = np.arange(16).reshape((2,2,4))\n",
    "print(arr)"
   ]
  },
  {
   "cell_type": "code",
   "execution_count": 32,
   "metadata": {},
   "outputs": [
    {
     "name": "stdout",
     "output_type": "stream",
     "text": [
      "-0.14917231163871875\n"
     ]
    }
   ],
   "source": [
    "print(arr.mean())"
   ]
  },
  {
   "cell_type": "code",
   "execution_count": 33,
   "metadata": {},
   "outputs": [
    {
     "name": "stdout",
     "output_type": "stream",
     "text": [
      "-2.9834462327743747\n"
     ]
    }
   ],
   "source": [
    "print(arr.sum())"
   ]
  },
  {
   "cell_type": "code",
   "execution_count": 34,
   "metadata": {},
   "outputs": [
    {
     "name": "stdout",
     "output_type": "stream",
     "text": [
      "[-1.62211951  2.6382684  -0.61133539 -3.38825973]\n",
      "[-2.438866    0.97966016 -2.56518917  0.42243137  0.61851741]\n"
     ]
    }
   ],
   "source": [
    "print(arr.sum(axis=0)) # 对每一列进行求和\n",
    "print(arr.sum(axis=1)) # 对每一行进行求和"
   ]
  },
  {
   "cell_type": "code",
   "execution_count": 38,
   "metadata": {},
   "outputs": [
    {
     "name": "stdout",
     "output_type": "stream",
     "text": [
      "[[ 0.8072352   0.48968784  1.07810478 -0.42918348 -0.73746939]\n",
      " [-0.2314971  -2.17091688  0.66569674  0.31671043 -0.64419123]\n",
      " [-0.05977592  0.16225607 -0.89877431 -0.26892486  1.36006507]\n",
      " [-1.44899125 -0.253148   -0.26936334 -1.12534885  0.15312413]\n",
      " [-1.21627265 -0.1034773  -0.28053202  1.91770212  1.20264655]]\n"
     ]
    }
   ],
   "source": [
    "from numpy.linalg import inv, qr\n",
    "X = randn(5,5)\n",
    "print(X)"
   ]
  },
  {
   "cell_type": "code",
   "execution_count": 39,
   "metadata": {},
   "outputs": [
    {
     "name": "stdout",
     "output_type": "stream",
     "text": [
      "[[ 4.28768752  1.38082106  1.50141087 -1.10552233 -2.21210362]\n",
      " [ 1.38082106  5.05379278 -0.9658516  -0.85491148  1.09482495]\n",
      " [ 1.50141087 -0.9658516   2.56451215 -0.24501804 -2.82492372]\n",
      " [-1.10552233 -0.85491148 -0.24501804  5.30081597  1.88073207]\n",
      " [-2.21210362  1.09482495 -2.82492372  1.88073207  4.27842617]]\n"
     ]
    }
   ],
   "source": [
    "mat = X.T.dot(X)\n",
    "print(mat)"
   ]
  }
 ],
 "metadata": {
  "kernelspec": {
   "display_name": "Python 3",
   "language": "python",
   "name": "python3"
  },
  "language_info": {
   "codemirror_mode": {
    "name": "ipython",
    "version": 3
   },
   "file_extension": ".py",
   "mimetype": "text/x-python",
   "name": "python",
   "nbconvert_exporter": "python",
   "pygments_lexer": "ipython3",
   "version": "3.5.4"
  }
 },
 "nbformat": 4,
 "nbformat_minor": 2
}
