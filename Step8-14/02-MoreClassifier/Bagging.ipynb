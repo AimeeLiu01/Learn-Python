{
 "cells": [
  {
   "cell_type": "code",
   "execution_count": 7,
   "metadata": {
    "collapsed": true
   },
   "outputs": [],
   "source": [
    "# https://blog.csdn.net/xlinsist/article/details/51475345\n",
    "# 使用scikit-learn实现bagging来拟合Wine数据集-->实战bagging方法\n",
    "## 比较了三种树型算法，分别为DT，Bagging，RF\n",
    "\n",
    "import pandas as pd\n",
    "df_wine = pd.read_csv('http://archive.ics.uci.edu/ml/machine-learning-databases/wine/wine.data', header=None)\n",
    "df_wine.columns = ['Class label', 'Alcohol', 'Malic acid', 'Ash', 'Alcalinity of ash', 'Magnesium', 'Total phenols', 'Flavanoids', 'Nonflavanoid phenols','Proanthocyanins','Color intensity','Hue','OD280/OD315 of diluted wines', 'Proline']\n",
    "df_wine = df_wine[df_wine['Class label'] != 1] #数据集中有三个类别 我们只使用其中的两个类别\n",
    "\n",
    "y = df_wine['Class label'].values\n",
    "X = df_wine[['Alcohol', 'Hue']].values ## 为了可视化的目的 我们只选用其中的两个特征\n",
    "\n",
    "\n",
    "from sklearn.preprocessing import LabelEncoder\n",
    "from sklearn.cross_validation import train_test_split\n",
    "le = LabelEncoder()\n",
    "y = le.fit_transform(y) # 把label转换为0和1\n",
    "X_train, X_test, y_train, y_test =train_test_split(X, y, test_size=0.4, random_state=1) # 拆分训练集的40%作为测试集\n",
    "\n",
    "from sklearn.tree import DecisionTreeClassifier\n",
    "from sklearn.ensemble import BaggingClassifier\n",
    "tree = DecisionTreeClassifier(criterion='entropy', max_depth=None)\n",
    "\n",
    "## 生成500个决策树，详细的参数参考官方文档\n",
    "bag = BaggingClassifier(base_estimator=tree, n_estimators=500, max_samples=1.0, max_features=1.0, bootstrap=True, bootstrap_features=False, n_jobs=1, random_state=1)\n",
    "\n",
    "## 度量单个决策树的准确性\n",
    "from sklearn.metrics import accuracy_score\n",
    "tree = tree.fit(X_train, y_train)\n",
    "y_train_pred = tree.predict(X_train)"
   ]
  },
  {
   "cell_type": "code",
   "execution_count": 8,
   "metadata": {},
   "outputs": [
    {
     "name": "stdout",
     "output_type": "stream",
     "text": [
      "Decision tree train/test accuracies 1.000/0.833\n"
     ]
    }
   ],
   "source": [
    "y_test_pred = tree.predict(X_test)\n",
    "tree_train = accuracy_score(y_train, y_train_pred)\n",
    "tree_test = accuracy_score(y_test, y_test_pred)\n",
    "print('Decision tree train/test accuracies %.3f/%.3f' % (tree_train, tree_test))"
   ]
  },
  {
   "cell_type": "code",
   "execution_count": 9,
   "metadata": {},
   "outputs": [
    {
     "name": "stdout",
     "output_type": "stream",
     "text": [
      "Bagging train/test accuracies 1.000/0.896\n"
     ]
    }
   ],
   "source": [
    "## 度量bagging分类器的准确性\n",
    "bag = bag.fit(X_train, y_train)\n",
    "y_train_pred = bag.predict(X_train)\n",
    "y_test_pred = bag.predict(X_test)\n",
    "bag_train = accuracy_score(y_train, y_train_pred)\n",
    "bag_test = accuracy_score(y_test, y_test_pred)\n",
    "print(\"Bagging train/test accuracies %.3f/%.3f\" % (bag_train, bag_test))"
   ]
  },
  {
   "cell_type": "code",
   "execution_count": 12,
   "metadata": {},
   "outputs": [
    {
     "data": {
      "image/png": "[encoded data removed]",
      "text/plain": [
       "<Figure size 576x216 with 2 Axes>"
      ]
     },
     "metadata": {},
     "output_type": "display_data"
    }
   ],
   "source": [
    "## 从上面的输出我们可以看到，Bagging分类器的效果的确要比单个决策树的效果好\n",
    "## 下面，让我们打印出两个分类器的决策边界，看看它们之间有什么不同\n",
    "import matplotlib.pyplot as plt\n",
    "\n",
    "x_min = X_train[:, 0].min() - 1\n",
    "x_max = X_train[:, 0].max() + 1\n",
    "y_min = X_train[:, 1].min() - 1\n",
    "y_max = X_train[:, 1].max() + 1\n",
    "xx, yy = np.meshgrid(np.arange(x_min, x_max, 0.1), np.arange(y_min, y_max, 0.1))\n",
    "f, axarr = plt.subplots(nrows=1, ncols=2, sharex='col', sharey='row', figsize=(8, 3))\n",
    "\n",
    "for idx, clf, tt in zip([0, 1], [tree, bag], ['Decision Tree', 'Bagging']):\n",
    "    clf.fit(X_train, y_train)\n",
    "    Z = clf.predict(np.c_[xx.ravel(), yy.ravel()])\n",
    "    Z = Z.reshape(xx.shape)\n",
    "    axarr[idx].contourf(xx, yy, Z, alpha=0.3)\n",
    "    axarr[idx].scatter(X_train[y_train==0, 0], X_train[y_train==0, 1], c='blue', marker='^')\n",
    "    axarr[idx].scatter(X_train[y_train==1, 0], X_train[y_train==1, 1], c='red', marker='o')\n",
    "    axarr[idx].set_title(tt)\n",
    "\n",
    "plt.show()"
   ]
  },
  {
   "cell_type": "code",
   "execution_count": 13,
   "metadata": {
    "collapsed": true
   },
   "outputs": [],
   "source": [
    "## 由上图可以看出，Bagging分类器的决策边界更加的平滑。\n",
    "# Bagging是不能减小模型的偏差的，因此我们要选择具有较低偏差的分类器来集成，例如没有修剪的决策树。"
   ]
  },
  {
   "cell_type": "code",
   "execution_count": 17,
   "metadata": {},
   "outputs": [
    {
     "data": {
      "text/plain": [
       "'\\n随机森林的步骤如下：\\n1. 从原始训练集中进行bootstrap抽样\\n2. 用步骤1中的bootstrap样本生成决策树\\n    1. 随机选择特征子集\\n    2. 用上面的特征子集来拆分树的节点\\n3. 重复1和2两个步骤\\n4. 集成所有生成的决策树进行预测\\n\\n我们全部的特征大小为m，那么m‾‾√个特征子集是一个很好地选择\\n'"
      ]
     },
     "execution_count": 17,
     "metadata": {},
     "output_type": "execute_result"
    }
   ],
   "source": [
    "## 随机森林(RF)\n",
    "## 随机森林在生成决策树时使用的是随机选择的特征。\n",
    "\"\"\"\n",
    "随机森林的步骤如下：\n",
    "1. 从原始训练集中进行bootstrap抽样\n",
    "2. 用步骤1中的bootstrap样本生成决策树\n",
    "    1. 随机选择特征子集\n",
    "    2. 用上面的特征子集来拆分树的节点\n",
    "3. 重复1和2两个步骤\n",
    "4. 集成所有生成的决策树进行预测\n",
    "\n",
    "我们全部的特征大小为m，那么m‾‾√个特征子集是一个很好地选择\n",
    "\"\"\"\n",
    "\n",
    "## 下面用随机森林训练上面的Wine数据集，这次选用13个特征，输出用3个类别。\n"
   ]
  },
  {
   "cell_type": "code",
   "execution_count": 18,
   "metadata": {},
   "outputs": [
    {
     "name": "stdout",
     "output_type": "stream",
     "text": [
      "Random Forest train/test accuracies 1.000/0.986\n"
     ]
    }
   ],
   "source": [
    "import pandas as pd\n",
    "df_wine = pd.read_csv('http://archive.ics.uci.edu/ml/machine-learning-databases/wine/wine.data', header=None)\n",
    "df_wine.columns = ['Class label', 'Alcohol', 'Malic acid', 'Ash', 'Alcalinity of ash', 'Magnesium', 'Total phenols', 'Flavanoids', 'Nonflavanoid phenols', 'Proanthocyanins', 'Color intensity', 'Hue', 'OD280/OD315 of diluted wines', 'Proline']\n",
    "y = df_wine['Class label'].values\n",
    "X = df_wine.values[:, 1:]\n",
    "\n",
    "from sklearn.preprocessing import LabelEncoder\n",
    "from sklearn.cross_validation import train_test_split\n",
    "le = LabelEncoder()\n",
    "y = le.fit_transform(y) # 把label转换为0和1\n",
    "X_train, X_test, y_train, y_test = train_test_split(X, y, test_size=0.40,  random_state=1) # 拆分训练集的40%作为测试集\n",
    "\n",
    "from sklearn.ensemble import RandomForestClassifier\n",
    "rf = RandomForestClassifier(n_estimators=1000, criterion='gini', max_features='sqrt', max_depth=None, min_samples_split=2, bootstrap=True, n_jobs=1, random_state=1)\n",
    "# 度量随机森林的准确性\n",
    "rf = rf.fit(X_train, y_train)\n",
    "y_train_pred = rf.predict(X_train)\n",
    "y_test_pred = rf.predict(X_test)\n",
    "tree_train = accuracy_score(y_train, y_train_pred)\n",
    "tree_test = accuracy_score(y_test, y_test_pred)\n",
    "print('Random Forest train/test accuracies %.3f/%.3f' % (tree_train, tree_test)) \n"
   ]
  },
  {
   "cell_type": "code",
   "execution_count": 21,
   "metadata": {},
   "outputs": [
    {
     "name": "stdout",
     "output_type": "stream",
     "text": [
      "Decision tree train/test accuracies 0.613/0.556\n",
      "AdaBoost train/test accuracies 1.000/0.958\n"
     ]
    }
   ],
   "source": [
    "## 下面让我们使用scikit-learn来训练以下AdaBoost\n",
    "from sklearn.ensemble import AdaBoostClassifier\n",
    "\n",
    "## 决策桩分类器性能\n",
    "tree = DecisionTreeClassifier(criterion='entropy', max_depth=1)\n",
    "tree = tree.fit(X_train, y_train)\n",
    "y_train_pred = tree.predict(X_train)\n",
    "y_test_pred = tree.predict(X_test)\n",
    "tree_train = accuracy_score(y_train, y_train_pred)\n",
    "tree_test = accuracy_score(y_test, y_test_pred)\n",
    "print('Decision tree train/test accuracies %.3f/%.3f' % (tree_train, tree_test))\n",
    "\n",
    "\n",
    "## Boosting分类器的性能\n",
    "ada = AdaBoostClassifier(base_estimator=tree, n_estimators=1000, learning_rate=0.1, random_state=0)\n",
    "ada = ada.fit(X_train, y_train)\n",
    "y_train_pred = ada.predict(X_train)\n",
    "y_test_pred = ada.predict(X_test)\n",
    "ada_train = accuracy_score(y_train, y_train_pred)\n",
    "ada_test = accuracy_score(y_test, y_test_pred)\n",
    "print('AdaBoost train/test accuracies %.3f/%.3f' % (ada_train, ada_test)) "
   ]
  }
 ],
 "metadata": {
  "kernelspec": {
   "display_name": "Python 3",
   "language": "python",
   "name": "python3"
  },
  "language_info": {
   "codemirror_mode": {
    "name": "ipython",
    "version": 3
   },
   "file_extension": ".py",
   "mimetype": "text/x-python",
   "name": "python",
   "nbconvert_exporter": "python",
   "pygments_lexer": "ipython3",
   "version": "3.6.3"
  }
 },
 "nbformat": 4,
 "nbformat_minor": 2
}
