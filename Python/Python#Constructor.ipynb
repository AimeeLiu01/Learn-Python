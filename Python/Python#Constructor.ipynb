{
 "cells": [
  {
   "cell_type": "code",
   "execution_count": 1,
   "metadata": {},
   "outputs": [
    {
     "name": "stdout",
     "output_type": "stream",
     "text": [
      "5+6j\n"
     ]
    }
   ],
   "source": [
    "class ComplexNumber:\n",
    "    def __init__(self, r = 0, i = 0):\n",
    "        self.real = r\n",
    "        self.imag = i\n",
    "        \n",
    "    def getData(self):\n",
    "        print(\"{0}+{1}j\".format(self.real, self.imag))\n",
    "    \n",
    "if __name__ == '__main__':\n",
    "    c = ComplexNumber(5,6)\n",
    "    c.getData()"
   ]
  }
 ],
 "metadata": {
  "kernelspec": {
   "display_name": "Python 3",
   "language": "python",
   "name": "python3"
  },
  "language_info": {
   "codemirror_mode": {
    "name": "ipython",
    "version": 3
   },
   "file_extension": ".py",
   "mimetype": "text/x-python",
   "name": "python",
   "nbconvert_exporter": "python",
   "pygments_lexer": "ipython3",
   "version": "3.6.3"
  }
 },
 "nbformat": 4,
 "nbformat_minor": 2
}
