{
 "cells": [
  {
   "cell_type": "code",
   "execution_count": 1,
   "metadata": {},
   "outputs": [
    {
     "name": "stdout",
     "output_type": "stream",
     "text": [
      "This is first call to the user defined function!\n",
      "Again second call to the same function\n"
     ]
    }
   ],
   "source": [
    "def printme(str):\n",
    "    print(str)\n",
    "    return\n",
    "\n",
    "printme(\"This is first call to the user defined function!\")\n",
    "printme(\"Again second call to the same function\")\n",
    "    "
   ]
  },
  {
   "cell_type": "code",
   "execution_count": 3,
   "metadata": {},
   "outputs": [
    {
     "name": "stdout",
     "output_type": "stream",
     "text": [
      "Values inside the function before change:  [10, 20, 30]\n",
      "Values inside the function after change:  [10, 20, 50]\n",
      "Values outside the function:  [10, 20, 50]\n"
     ]
    }
   ],
   "source": [
    "## 通过引用传递／通过值传递\n",
    "def changeme(mylist):\n",
    "    print(\"Values inside the function before change: \", mylist)\n",
    "    mylist[2] = 50\n",
    "    print(\"Values inside the function after change: \",mylist )\n",
    "    return\n",
    "\n",
    "mylist = [10, 20, 30]\n",
    "changeme(mylist)\n",
    "print(\"Values outside the function: \", mylist)"
   ]
  },
  {
   "cell_type": "code",
   "execution_count": 4,
   "metadata": {},
   "outputs": [
    {
     "name": "stdout",
     "output_type": "stream",
     "text": [
      "Values inside the function: [1, 2, 3, 4]\n",
      "Values outside the function: [10, 20, 30]\n"
     ]
    }
   ],
   "source": [
    "## 参数通过引用传递，引用在被调用函数内被覆盖\n",
    "def changeme(mylist):\n",
    "    mylist = [1,2,3,4]\n",
    "    print(\"Values inside the function:\" ,mylist)\n",
    "    return\n",
    "\n",
    "mylist = [10, 20, 30]\n",
    "changeme(mylist)\n",
    "print(\"Values outside the function:\", mylist)"
   ]
  },
  {
   "cell_type": "code",
   "execution_count": 5,
   "metadata": {},
   "outputs": [
    {
     "name": "stdout",
     "output_type": "stream",
     "text": [
      "Name:  Aimee Age:  25\n",
      "Name:  Aimee Age:  22\n"
     ]
    }
   ],
   "source": [
    "def printinfo(name, age):\n",
    "    \"This prints a passed info into this function\"\n",
    "    print(\"Name: \", name, \"Age: \", age)\n",
    "    return\n",
    "printinfo(age=25, name=\"Aimee\")\n",
    "printinfo(name=\"Aimee\", age=22)"
   ]
  },
  {
   "cell_type": "code",
   "execution_count": 6,
   "metadata": {},
   "outputs": [
    {
     "name": "stdout",
     "output_type": "stream",
     "text": [
      "Output is:  10\n",
      "Output is:  70\n",
      "60\n",
      "50\n"
     ]
    }
   ],
   "source": [
    "##可变长度参数\n",
    "def printinfo(arg1, *vartuple):\n",
    "    print(\"Output is: \", arg1)\n",
    "    for var in vartuple:\n",
    "        print(var, )\n",
    "    return\n",
    "printinfo(10)\n",
    "printinfo(70, 60, 50)\n",
    "    "
   ]
  },
  {
   "cell_type": "code",
   "execution_count": 7,
   "metadata": {},
   "outputs": [
    {
     "name": "stdout",
     "output_type": "stream",
     "text": [
      "Value of total:  30\n",
      "Value of total:  40\n"
     ]
    }
   ],
   "source": [
    "## 匿名函数\n",
    "sum = lambda arg1, arg2: arg1 + arg2\n",
    "print(\"Value of total: \", sum(10, 20))\n",
    "print(\"Value of total: \", sum(20, 20))"
   ]
  },
  {
   "cell_type": "code",
   "execution_count": 8,
   "metadata": {},
   "outputs": [
    {
     "name": "stdout",
     "output_type": "stream",
     "text": [
      "Inside the function: 30\n",
      "Outside the function:  30\n"
     ]
    }
   ],
   "source": [
    "## return语句\n",
    "def sum(arg1, arg2):\n",
    "    total = arg1 + arg2\n",
    "    print(\"Inside the function:\", total)\n",
    "    return total\n",
    "\n",
    "total = sum(10, 20)\n",
    "print(\"Outside the function: \", total)\n"
   ]
  },
  {
   "cell_type": "code",
   "execution_count": 9,
   "metadata": {},
   "outputs": [
    {
     "name": "stdout",
     "output_type": "stream",
     "text": [
      "Inside the function local total : 30\n",
      "Outside: 0\n"
     ]
    }
   ],
   "source": [
    "## 全局变量与局部变量\n",
    "total = 0\n",
    "def sum(arg1, arg2):\n",
    "    total = arg1 + arg2\n",
    "    print(\"Inside the function local total :\", total)\n",
    "    return total\n",
    "sum(10, 20)\n",
    "print(\"Outside:\", total)"
   ]
  }
 ],
 "metadata": {
  "kernelspec": {
   "display_name": "Python 3",
   "language": "python",
   "name": "python3"
  },
  "language_info": {
   "codemirror_mode": {
    "name": "ipython",
    "version": 3
   },
   "file_extension": ".py",
   "mimetype": "text/x-python",
   "name": "python",
   "nbconvert_exporter": "python",
   "pygments_lexer": "ipython3",
   "version": "3.6.3"
  }
 },
 "nbformat": 4,
 "nbformat_minor": 2
}
