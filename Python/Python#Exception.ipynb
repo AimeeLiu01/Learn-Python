{
 "cells": [
  {
   "cell_type": "code",
   "execution_count": 1,
   "metadata": {},
   "outputs": [
    {
     "name": "stdout",
     "output_type": "stream",
     "text": [
      "32.0\n",
      "451\n"
     ]
    },
    {
     "ename": "AssertionError",
     "evalue": "Colder than absolute zero!",
     "output_type": "error",
     "traceback": [
      "\u001b[0;31m---------------------------------------------------------------------------\u001b[0m",
      "\u001b[0;31mAssertionError\u001b[0m                            Traceback (most recent call last)",
      "\u001b[0;32m<ipython-input-1-6b539cfcf0aa>\u001b[0m in \u001b[0;36m<module>\u001b[0;34m()\u001b[0m\n\u001b[1;32m      5\u001b[0m \u001b[0mprint\u001b[0m\u001b[0;34m(\u001b[0m\u001b[0mKelvinToFahrenheit\u001b[0m\u001b[0;34m(\u001b[0m\u001b[0;36m273\u001b[0m\u001b[0;34m)\u001b[0m\u001b[0;34m)\u001b[0m\u001b[0;34m\u001b[0m\u001b[0m\n\u001b[1;32m      6\u001b[0m \u001b[0mprint\u001b[0m\u001b[0;34m(\u001b[0m\u001b[0mint\u001b[0m\u001b[0;34m(\u001b[0m\u001b[0mKelvinToFahrenheit\u001b[0m\u001b[0;34m(\u001b[0m\u001b[0;36m505.78\u001b[0m\u001b[0;34m)\u001b[0m\u001b[0;34m)\u001b[0m\u001b[0;34m)\u001b[0m\u001b[0;34m\u001b[0m\u001b[0m\n\u001b[0;32m----> 7\u001b[0;31m \u001b[0mprint\u001b[0m\u001b[0;34m(\u001b[0m\u001b[0mKelvinToFahrenheit\u001b[0m\u001b[0;34m(\u001b[0m\u001b[0;34m-\u001b[0m\u001b[0;36m5\u001b[0m\u001b[0;34m)\u001b[0m\u001b[0;34m)\u001b[0m\u001b[0;34m\u001b[0m\u001b[0m\n\u001b[0m",
      "\u001b[0;32m<ipython-input-1-6b539cfcf0aa>\u001b[0m in \u001b[0;36mKelvinToFahrenheit\u001b[0;34m(Temperature)\u001b[0m\n\u001b[1;32m      1\u001b[0m \u001b[0;32mdef\u001b[0m \u001b[0mKelvinToFahrenheit\u001b[0m\u001b[0;34m(\u001b[0m\u001b[0mTemperature\u001b[0m\u001b[0;34m)\u001b[0m\u001b[0;34m:\u001b[0m\u001b[0;34m\u001b[0m\u001b[0m\n\u001b[0;32m----> 2\u001b[0;31m     \u001b[0;32massert\u001b[0m\u001b[0;34m(\u001b[0m\u001b[0mTemperature\u001b[0m \u001b[0;34m>=\u001b[0m \u001b[0;36m0\u001b[0m\u001b[0;34m)\u001b[0m\u001b[0;34m,\u001b[0m \u001b[0;34m\"Colder than absolute zero!\"\u001b[0m\u001b[0;34m\u001b[0m\u001b[0m\n\u001b[0m\u001b[1;32m      3\u001b[0m     \u001b[0;32mreturn\u001b[0m \u001b[0;34m(\u001b[0m\u001b[0;34m(\u001b[0m\u001b[0mTemperature\u001b[0m\u001b[0;34m-\u001b[0m\u001b[0;36m273\u001b[0m\u001b[0;34m)\u001b[0m\u001b[0;34m*\u001b[0m\u001b[0;36m1.8\u001b[0m\u001b[0;34m)\u001b[0m\u001b[0;34m+\u001b[0m\u001b[0;36m32\u001b[0m\u001b[0;34m\u001b[0m\u001b[0m\n\u001b[1;32m      4\u001b[0m \u001b[0;34m\u001b[0m\u001b[0m\n\u001b[1;32m      5\u001b[0m \u001b[0mprint\u001b[0m\u001b[0;34m(\u001b[0m\u001b[0mKelvinToFahrenheit\u001b[0m\u001b[0;34m(\u001b[0m\u001b[0;36m273\u001b[0m\u001b[0;34m)\u001b[0m\u001b[0;34m)\u001b[0m\u001b[0;34m\u001b[0m\u001b[0m\n",
      "\u001b[0;31mAssertionError\u001b[0m: Colder than absolute zero!"
     ]
    }
   ],
   "source": [
    "def KelvinToFahrenheit(Temperature):\n",
    "    assert(Temperature >= 0), \"Colder than absolute zero!\"\n",
    "    return ((Temperature-273)*1.8)+32\n",
    "\n",
    "print(KelvinToFahrenheit(273))\n",
    "print(int(KelvinToFahrenheit(505.78)))\n",
    "print(KelvinToFahrenheit(-5))"
   ]
  },
  {
   "cell_type": "code",
   "execution_count": 4,
   "metadata": {},
   "outputs": [
    {
     "name": "stdout",
     "output_type": "stream",
     "text": [
      "Written content in the file successfully\n"
     ]
    }
   ],
   "source": [
    "try:\n",
    "    fh = open(\"testfile.txt\", \"w\")\n",
    "    fh.write(\"This is my test file for exception handling!!\")\n",
    "except IOError:\n",
    "    print(\"Error: can\\'t find file or read data\")\n",
    "else:\n",
    "    print(\"Written content in the file successfully\")\n",
    "    fh.close()"
   ]
  },
  {
   "cell_type": "code",
   "execution_count": 5,
   "metadata": {},
   "outputs": [
    {
     "name": "stdout",
     "output_type": "stream",
     "text": [
      "Error: can't fine file or read data\n"
     ]
    }
   ],
   "source": [
    "try:\n",
    "    fh = open(\"Testfile.txt\", \"r\")\n",
    "    fh.write(\"This is my test file for exception handling@@\")\n",
    "except IOError:\n",
    "    print(\"Error: can\\'t fine file or read data\")\n",
    "else:\n",
    "    print(\"Written content in the file successfully\")"
   ]
  },
  {
   "cell_type": "code",
   "execution_count": 6,
   "metadata": {},
   "outputs": [
    {
     "name": "stdout",
     "output_type": "stream",
     "text": [
      "Error\n"
     ]
    }
   ],
   "source": [
    "try:\n",
    "    fh = open(\"testfile\", \"w\")\n",
    "    fh.write(\"This is my test file for exception handling!!\")\n",
    "finally:\n",
    "    print(\"Error\")\n",
    "    fh.close()"
   ]
  }
 ],
 "metadata": {
  "kernelspec": {
   "display_name": "Python 3",
   "language": "python",
   "name": "python3"
  },
  "language_info": {
   "codemirror_mode": {
    "name": "ipython",
    "version": 3
   },
   "file_extension": ".py",
   "mimetype": "text/x-python",
   "name": "python",
   "nbconvert_exporter": "python",
   "pygments_lexer": "ipython3",
   "version": "3.6.3"
  }
 },
 "nbformat": 4,
 "nbformat_minor": 2
}
